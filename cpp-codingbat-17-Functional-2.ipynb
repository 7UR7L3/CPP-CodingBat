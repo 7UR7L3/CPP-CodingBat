
{
 "cells": [
  {
   "cell_type": "code",
   "execution_count": null,
   "metadata": {},
   "outputs": [],
   "source": [
	"#include <iostream>\n",
	"#include <iomanip>\n",
	"#include <vector>\n",
	"\n",
	"using namespace std;"
   ]
  },
  {
   "cell_type": "code",
   "execution_count": null,
   "metadata": {},
   "outputs": [],
   "source": [
	"namespace testns { template<class A> void printTest( string str, A run, A expected )\n",
	"{\n",
	"    if( run == expected )\n",
	"        cout << boolalpha << \"\\033[1;32m\"\n",
	"            << \"Expected: \" << setw(60) << left << str << \" Run: \" << setw(20) << left << run << \"\\t\\tOK\"\n",
	"            << \"\\033[0m\" << endl;\n",
	"    else\n",
	"        cerr << boolalpha << \"\\033[1;31m\"\n",
	"            << \"Expected: \" << setw(60) << left << str << \" Run: \" << setw(20) << left << run << \"\\t\\tX\"\n",
	"            << \"\\033[0m\" << endl;\n",
	"} } using namespace testns;\n",
	"void printTest( string str, string run, const char* expected ){ printTest( str, \"\\\"\"+run+\"\\\"\", \"\\\"\"+string( expected )+\"\\\"\" ); }\n",
	"template<class A> void printTest( string str, vector<A> run, vector<A> expected )\n",
	"{\n",
	"    string runStr = \"[\"; for( A a : run ) runStr += to_string( a ) + \", \";\n",
	"    if( runStr.length() > 1 ) runStr = runStr.substr(0, runStr.length()-2); runStr += \"]\";\n",
	"    string expStr = \"[\"; for( A a : expected ) expStr += to_string( a ) + \", \";\n",
	"    if( expStr.length() > 1 ) expStr = expStr.substr(0, expStr.length()-2); expStr += \"]\";\n",
	"    printTest( str, runStr, expStr );\n",
	"}"
   ]
  },
{"cell_type": "markdown", "metadata": {}, "source": ["# Functional-2 > noNeg"]},
{"cell_type": "code", "execution_count": null, "metadata": {}, "outputs": [], "source": ["/*\n", "Given a list of integers, return a list of the integers, omitting any that are\n", "less than 0.\n", "\n", "noNeg([1, -2]) \u2192 [1]\n", "noNeg([-3, -3, 3, 3]) \u2192 [3, 3]\n", "noNeg([-1, -1, -1]) \u2192 []\n", "*/\n", "\n", "std::vector<int> noNeg(vector<int> nums) {\n", "    return {}\n", "}\n", "\n", "\n", "// tests:"]},
{"cell_type": "markdown", "metadata": {}, "source": ["# Functional-2 > no9"]},
{"cell_type": "code", "execution_count": null, "metadata": {}, "outputs": [], "source": ["/*\n", "Given a list of non-negative integers, return a list of those numbers except\n", "omitting any that end with 9. (Note:  % by 10)\n", "\n", "no9([1, 2, 19]) \u2192 [1, 2]\n", "no9([9, 19, 29, 3]) \u2192 [3]\n", "no9([1, 2, 3]) \u2192 [1, 2, 3]\n", "*/\n", "\n", "std::vector<int> no9(vector<int> nums) {\n", "    return {}\n", "}\n", "\n", "\n", "// tests:"]},
{"cell_type": "markdown", "metadata": {}, "source": ["# Functional-2 > noTeen"]},
{"cell_type": "code", "execution_count": null, "metadata": {}, "outputs": [], "source": ["/*\n", "Given a list of integers, return a list of those numbers, omitting any that are\n", "between 13 and 19 inclusive.\n", "\n", "noTeen([12, 13, 19, 20]) \u2192 [12, 20]\n", "noTeen([1, 14, 1]) \u2192 [1, 1]\n", "noTeen([15]) \u2192 []\n", "*/\n", "\n", "std::vector<int> noTeen(vector<int> nums) {\n", "    return {}\n", "}\n", "\n", "\n", "// tests:"]},
{"cell_type": "markdown", "metadata": {}, "source": ["# Functional-2 > noZ"]},
{"cell_type": "code", "execution_count": null, "metadata": {}, "outputs": [], "source": ["/*\n", "Given a list of strings, return a list of the strings, omitting any string that\n", "contains a \"z\". (Note: the str.contains(x) method returns a boolean)\n", "\n", "noZ([\"aaa\", \"bbb\", \"aza\"]) \u2192 [\"aaa\", \"bbb\"]\n", "noZ([\"hziz\", \"hzello\", \"hi\"]) \u2192 [\"hi\"]\n", "noZ([\"hello\", \"howz\", \"are\", \"youz\"]) \u2192 [\"hello\", \"are\"]\n", "*/\n", "\n", "std::vector<string> noZ(vector<string> strings) {\n", "    return {}\n", "}\n", "\n", "\n", "// tests:"]},
{"cell_type": "markdown", "metadata": {}, "source": ["# Functional-2 > noLong"]},
{"cell_type": "code", "execution_count": null, "metadata": {}, "outputs": [], "source": ["/*\n", "Given a list of strings, return a list of the strings, omitting any string\n", "length 4 or more.\n", "\n", "noLong([\"this\", \"not\", \"too\", \"long\"]) \u2192 [\"not\", \"too\"]\n", "noLong([\"a\", \"bbb\", \"cccc\"]) \u2192 [\"a\", \"bbb\"]\n", "noLong([\"cccc\", \"cccc\", \"cccc\"]) \u2192 []\n", "*/\n", "\n", "std::vector<string> noLong(vector<string> strings) {\n", "    return {}\n", "}\n", "\n", "\n", "// tests:"]},
{"cell_type": "markdown", "metadata": {}, "source": ["# Functional-2 > no34"]},
{"cell_type": "code", "execution_count": null, "metadata": {}, "outputs": [], "source": ["/*\n", "Given a list of strings, return a list of the strings, omitting any string\n", "length 3 or 4.\n", "\n", "no34([\"a\", \"bb\", \"ccc\"]) \u2192 [\"a\", \"bb\"]\n", "no34([\"a\", \"bb\", \"ccc\", \"dddd\"]) \u2192 [\"a\", \"bb\"]\n", "no34([\"ccc\", \"dddd\", \"apple\"]) \u2192 [\"apple\"]\n", "*/\n", "\n", "std::vector<string> no34(vector<string> strings) {\n", "    return {}\n", "}\n", "\n", "\n", "// tests:"]},
{"cell_type": "markdown", "metadata": {}, "source": ["# Functional-2 > noYY"]},
{"cell_type": "code", "execution_count": null, "metadata": {}, "outputs": [], "source": ["/*\n", "Given a list of strings, return a list where each string has \"y\" added at its\n", "end, omitting any resulting strings that contain \"yy\" as a substring anywhere.\n", "\n", "noYY([\"a\", \"b\", \"c\"]) \u2192 [\"ay\", \"by\", \"cy\"]\n", "noYY([\"a\", \"b\", \"cy\"]) \u2192 [\"ay\", \"by\"]\n", "noYY([\"xx\", \"ya\", \"zz\"]) \u2192 [\"xxy\", \"yay\", \"zzy\"]\n", "*/\n", "\n", "std::vector<string> noYY(vector<string> strings) {\n", "    return {}\n", "}\n", "\n", "\n", "// tests:"]},
{"cell_type": "markdown", "metadata": {}, "source": ["# Functional-2 > two2"]},
{"cell_type": "code", "execution_count": null, "metadata": {}, "outputs": [], "source": ["/*\n", "Given a list of non-negative integers, return a list of those numbers multiplied\n", "by 2, omitting any of the resulting numbers that end in 2.\n", "\n", "two2([1, 2, 3]) \u2192 [4, 6]\n", "two2([2, 6, 11]) \u2192 [4]\n", "two2([0]) \u2192 [0]\n", "*/\n", "\n", "std::vector<int> two2(vector<int> nums) {\n", "    return {}\n", "}\n", "\n", "\n", "// tests:"]},
{"cell_type": "markdown", "metadata": {}, "source": ["# Functional-2 > square56"]},
{"cell_type": "code", "execution_count": null, "metadata": {}, "outputs": [], "source": ["/*\n", "Given a list of integers, return a list of those numbers squared and the product\n", "added to 10, omitting any of the resulting numbers that end in 5 or 6.\n", "\n", "square56([3, 1, 4]) \u2192 [19, 11]\n", "square56([1]) \u2192 [11]\n", "square56([2]) \u2192 [14]\n", "*/\n", "\n", "std::vector<int> square56(vector<int> nums) {\n", "    return {}\n", "}\n", "\n", "\n", "// tests:"]}
 ],
 "metadata": {
  "kernelspec": {
   "display_name": "C++17",
   "language": "C++17",
   "name": "xcpp17"
  },
  "language_info": {
   "codemirror_mode": "text/x-c++src",
   "file_extension": ".cpp",
   "mimetype": "text/x-c++src",
   "name": "c++",
   "version": "17"
  }
 },
 "nbformat": 4,
 "nbformat_minor": 4
}
