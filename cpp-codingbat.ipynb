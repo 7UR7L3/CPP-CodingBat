{
 "cells": [
  {
   "cell_type": "code",
   "execution_count": 4,
   "metadata": {},
   "outputs": [],
   "source": [
    "#include <iostream>\n",
    "\n",
    "using namespace std;"
   ]
  },
  {
   "cell_type": "code",
   "execution_count": 5,
   "metadata": {},
   "outputs": [],
   "source": [
    "template<class A>\n",
    "void printTest( string str, A run, A expected )\n",
    "{\n",
    "    cout << boolalpha\n",
    "        << ( run == expected ? \"\\033[1;32m\" : \"\\033[1;31m\" )\n",
    "        << \"Expected: \" << str\n",
    "        << \"\\t\\tRun: \" << run\n",
    "        << \"\\t\\t\" << (run == expected ? \"OK\" : \"X\")\n",
    "        << \"\\033[0m\" << endl;\n",
    "}"
   ]
  },
  {
   "cell_type": "markdown",
   "metadata": {},
   "source": [
    "# Warmup-1 > sleepIn\n",
    "\n",
    "```\n",
    "The parameter weekday is true if it is a weekday, and the parameter vacation is true if we are on vacation. We sleep in if it is not a weekday or we're on vacation. Return true if we sleep in.\n",
    "\n",
    "\n",
    "sleepIn(false, false) → true\n",
    "sleepIn(true, false) → false\n",
    "sleepIn(false, true) → true\n",
    "```"
   ]
  },
  {
   "cell_type": "code",
   "execution_count": 13,
   "metadata": {},
   "outputs": [
    {
     "name": "stdout",
     "output_type": "stream",
     "text": [
      "\u001b[1;32mExpected: sleepIn(false, false) → true\t\tRun: true\t\tOK\u001b[0m\n",
      "\u001b[1;31mExpected: sleepIn(true, false) → false\t\tRun: true\t\tX\u001b[0m\n",
      "\u001b[1;32mExpected: sleepIn(false, true) → true\t\tRun: true\t\tOK\u001b[0m\n",
      "\u001b[1;32mExpected: sleepIn(true, true) → true\t\tRun: true\t\tOK\u001b[0m\n"
     ]
    }
   ],
   "source": [
    "bool sleepIn(bool weekday, bool vacation)\n",
    "{\n",
    "    return true;\n",
    "}\n",
    "\n",
    "// tests:\n",
    "printTest( \"sleepIn(false, false) → true\", sleepIn(false, false), true );\n",
    "printTest( \"sleepIn(true, false) → false\", sleepIn(true, false), false );\n",
    "printTest( \"sleepIn(false, true) → true\", sleepIn(false, true), true );\n",
    "printTest( \"sleepIn(true, true) → true\", sleepIn(true, true), true );"
   ]
  }
 ],
 "metadata": {
  "CodeCell": {
   "cm_config": {
    "lineWrapping": true
   }
  },
  "kernelspec": {
   "display_name": "C++17",
   "language": "C++17",
   "name": "xcpp17"
  }
 },
 "nbformat": 4,
 "nbformat_minor": 4
}
