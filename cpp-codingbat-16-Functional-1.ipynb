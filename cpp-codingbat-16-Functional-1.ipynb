
{
 "cells": [
  {
   "cell_type": "code",
   "execution_count": null,
   "metadata": {},
   "outputs": [],
   "source": [
	"#include <iostream>\n",
	"#include <iomanip>\n",
	"#include <vector>\n",
	"\n",
	"using namespace std;"
   ]
  },
  {
   "cell_type": "code",
   "execution_count": null,
   "metadata": {},
   "outputs": [],
   "source": [
	"namespace testns { template<class A> void printTest( string str, A run, A expected )\n",
	"{\n",
	"    if( run == expected )\n",
	"        cout << boolalpha << \"\\033[1;32m\"\n",
	"            << \"Expected: \" << setw(60) << left << str << \" Run: \" << setw(20) << left << run << \"\\t\\tOK\"\n",
	"            << \"\\033[0m\" << endl;\n",
	"    else\n",
	"        cerr << boolalpha << \"\\033[1;31m\"\n",
	"            << \"Expected: \" << setw(60) << left << str << \" Run: \" << setw(20) << left << run << \"\\t\\tX\"\n",
	"            << \"\\033[0m\" << endl;\n",
	"} } using namespace testns;\n",
	"void printTest( string str, string run, const char* expected ){ printTest( str, \"\\\"\"+run+\"\\\"\", \"\\\"\"+string( expected )+\"\\\"\" ); }\n",
	"template<class A> void printTest( string str, vector<A> run, vector<A> expected )\n",
	"{\n",
	"    string runStr = \"[\"; for( A a : run ) runStr += to_string( a ) + \", \";\n",
	"    if( runStr.length() > 1 ) runStr = runStr.substr(0, runStr.length()-2); runStr += \"]\";\n",
	"    string expStr = \"[\"; for( A a : expected ) expStr += to_string( a ) + \", \";\n",
	"    if( expStr.length() > 1 ) expStr = expStr.substr(0, expStr.length()-2); expStr += \"]\";\n",
	"    printTest( str, runStr, expStr );\n",
	"}"
   ]
  },
{"cell_type": "markdown", "metadata": {}, "source": ["# Functional-1 > doubling"]},
{"cell_type": "code", "execution_count": null, "metadata": {}, "outputs": [], "source": ["/*\n", "Given a list of integers, return a list where each integer is multiplied by 2.\n", "\n", "doubling([1, 2, 3]) \u2192 [2, 4, 6]\n", "doubling([6, 8, 6, 8, -1]) \u2192 [12, 16, 12, 16, -2]\n", "doubling([]) \u2192 []\n", "*/\n", "\n", "std::vector<int> doubling(vector<int> nums) {\n", "    return {}\n", "}\n", "\n", "\n", "// tests:"]},
{"cell_type": "markdown", "metadata": {}, "source": ["# Functional-1 > square"]},
{"cell_type": "code", "execution_count": null, "metadata": {}, "outputs": [], "source": ["/*\n", "Given a list of integers, return a list where each integer is multiplied with\n", "itself.\n", "\n", "square([1, 2, 3]) \u2192 [1, 4, 9]\n", "square([6, 8, -6, -8, 1]) \u2192 [36, 64, 36, 64, 1]\n", "square([]) \u2192 []\n", "*/\n", "\n", "std::vector<int> square(vector<int> nums) {\n", "    return {}\n", "}\n", "\n", "\n", "// tests:"]},
{"cell_type": "markdown", "metadata": {}, "source": ["# Functional-1 > addStar"]},
{"cell_type": "code", "execution_count": null, "metadata": {}, "outputs": [], "source": ["/*\n", "Given a list of strings, return a list where each string has \"*\" added at its\n", "end.\n", "\n", "addStar([\"a\", \"bb\", \"ccc\"]) \u2192 [\"a*\", \"bb*\", \"ccc*\"]\n", "addStar([\"hello\", \"there\"]) \u2192 [\"hello*\", \"there*\"]\n", "addStar([\"*\"]) \u2192 [\"**\"]\n", "*/\n", "\n", "std::vector<string> addStar(vector<string> strings) {\n", "    return {}\n", "}\n", "\n", "\n", "// tests:"]},
{"cell_type": "markdown", "metadata": {}, "source": ["# Functional-1 > copies3"]},
{"cell_type": "code", "execution_count": null, "metadata": {}, "outputs": [], "source": ["/*\n", "Given a list of strings, return a list where each string is replaced by 3 copies\n", "of the string concatenated together.\n", "\n", "copies3([\"a\", \"bb\", \"ccc\"]) \u2192 [\"aaa\", \"bbbbbb\", \"ccccccccc\"]\n", "copies3([\"24\", \"a\", \"\"]) \u2192 [\"242424\", \"aaa\", \"\"]\n", "copies3([\"hello\", \"there\"]) \u2192 [\"hellohellohello\", \"theretherethere\"]\n", "*/\n", "\n", "std::vector<string> copies3(vector<string> strings) {\n", "    return {}\n", "}\n", "\n", "\n", "// tests:"]},
{"cell_type": "markdown", "metadata": {}, "source": ["# Functional-1 > moreY"]},
{"cell_type": "code", "execution_count": null, "metadata": {}, "outputs": [], "source": ["/*\n", "Given a list of strings, return a list where each string has \"y\" added at its\n", "start and end.\n", "\n", "moreY([\"a\", \"b\", \"c\"]) \u2192 [\"yay\", \"yby\", \"ycy\"]\n", "moreY([\"hello\", \"there\"]) \u2192 [\"yhelloy\", \"ytherey\"]\n", "moreY([\"yay\"]) \u2192 [\"yyayy\"]\n", "*/\n", "\n", "std::vector<string> moreY(vector<string> strings) {\n", "    return {}\n", "}\n", "\n", "\n", "// tests:"]},
{"cell_type": "markdown", "metadata": {}, "source": ["# Functional-1 > math1"]},
{"cell_type": "code", "execution_count": null, "metadata": {}, "outputs": [], "source": ["/*\n", "Given a list of integers, return a list where each integer is added to 1 and the\n", "result is multiplied by 10.\n", "\n", "math1([1, 2, 3]) \u2192 [20, 30, 40]\n", "math1([6, 8, 6, 8, 1]) \u2192 [70, 90, 70, 90, 20]\n", "math1([10]) \u2192 [110]\n", "*/\n", "\n", "std::vector<int> math1(vector<int> nums) {\n", "    return {}\n", "}\n", "\n", "\n", "// tests:"]},
{"cell_type": "markdown", "metadata": {}, "source": ["# Functional-1 > rightDigit"]},
{"cell_type": "code", "execution_count": null, "metadata": {}, "outputs": [], "source": ["/*\n", "Given a list of non-negative integers, return an integer list of the rightmost\n", "digits. (Note: use %)\n", "\n", "rightDigit([1, 22, 93]) \u2192 [1, 2, 3]\n", "rightDigit([16, 8, 886, 8, 1]) \u2192 [6, 8, 6, 8, 1]\n", "rightDigit([10, 0]) \u2192 [0, 0]\n", "*/\n", "\n", "std::vector<int> rightDigit(vector<int> nums) {\n", "    return {}\n", "}\n", "\n", "\n", "// tests:"]},
{"cell_type": "markdown", "metadata": {}, "source": ["# Functional-1 > lower"]},
{"cell_type": "code", "execution_count": null, "metadata": {}, "outputs": [], "source": ["/*\n", "Given a list of strings, return a list where each string is converted to lower\n", "case (Note: String toLowerCase() method).\n", "\n", "lower([\"Hello\", \"Hi\"]) \u2192 [\"hello\", \"hi\"]\n", "lower([\"AAA\", \"BBB\", \"ccc\"]) \u2192 [\"aaa\", \"bbb\", \"ccc\"]\n", "lower([\"KitteN\", \"ChocolaTE\"]) \u2192 [\"kitten\", \"chocolate\"]\n", "*/\n", "\n", "std::vector<string> lower(vector<string> strings) {\n", "    return {}\n", "}\n", "\n", "\n", "// tests:"]},
{"cell_type": "markdown", "metadata": {}, "source": ["# Functional-1 > noX"]},
{"cell_type": "code", "execution_count": null, "metadata": {}, "outputs": [], "source": ["/*\n", "Given a list of strings, return a list where each string has all its \"x\"\n", "removed.\n", "\n", "noX([\"ax\", \"bb\", \"cx\"]) \u2192 [\"a\", \"bb\", \"c\"]\n", "noX([\"xxax\", \"xbxbx\", \"xxcx\"]) \u2192 [\"a\", \"bb\", \"c\"]\n", "noX([\"x\"]) \u2192 [\"\"]\n", "*/\n", "\n", "std::vector<string> noX(vector<string> strings) {\n", "    return {}\n", "}\n", "\n", "\n", "// tests:"]}
 ],
 "metadata": {
  "kernelspec": {
   "display_name": "C++17",
   "language": "C++17",
   "name": "xcpp17"
  },
  "language_info": {
   "codemirror_mode": "text/x-c++src",
   "file_extension": ".cpp",
   "mimetype": "text/x-c++src",
   "name": "c++",
   "version": "17"
  }
 },
 "nbformat": 4,
 "nbformat_minor": 4
}
